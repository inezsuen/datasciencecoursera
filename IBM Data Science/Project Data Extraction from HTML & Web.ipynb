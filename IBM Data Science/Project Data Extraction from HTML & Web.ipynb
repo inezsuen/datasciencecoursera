{
 "cells": [
  {
   "cell_type": "markdown",
   "id": "f74b7824-bd12-42b7-9ffa-c502cdb33daa",
   "metadata": {},
   "source": [
    "# Data Extraction from HTML/Web\n",
    "\n",
    "This project is a practice exercise developed as part of the IBM Data Science Certificate Program at Coursera. This exercise demonstrated my proficiency in using Python for:\n",
    "* HTML/Web scraping\n",
    "* Usage of BeautifulSoup Python library\n",
    "* Extraction of data and HTML elements"
   ]
  },
  {
   "cell_type": "markdown",
   "id": "93b80532-b349-42e7-806c-8e2555fd5d95",
   "metadata": {},
   "source": [
    "## Project 1 Scenario\n",
    "\n",
    "You are asked to extract data such as HTML elements, tags, attributes, etc. from the given hypothetical webpages and tables."
   ]
  },
  {
   "cell_type": "markdown",
   "id": "20278ab6-7454-471c-a07c-5ea61075384f",
   "metadata": {},
   "source": [
    "## Steps"
   ]
  },
  {
   "cell_type": "markdown",
   "id": "69865bbc-6ffe-4c9f-a01b-3f87071a9d86",
   "metadata": {},
   "source": [
    "### 1. Define HTML"
   ]
  },
  {
   "cell_type": "code",
   "execution_count": 1,
   "id": "f63df7a0-cd0c-4090-80ef-5f88c7408e74",
   "metadata": {},
   "outputs": [],
   "source": [
    "html = \"<!DOCTYPE html><html><head><title>Page Title</title></head><body><h3> \\\n",
    "<b id='boldest'>Lebron James</b></h3><p> Salary: $ 92,000,000 </p> \\\n",
    "<h3>Stephen Curry</h3><p> Salary: $85,000,000</p> \\\n",
    "<h3>Kevin Durant</h3><p> Salary: $73,200,000</p></body></html>\""
   ]
  },
  {
   "cell_type": "markdown",
   "id": "e7bb4a88-7b05-4828-8aa2-00529635b124",
   "metadata": {},
   "source": [
    "### 2. Import Required Libraries"
   ]
  },
  {
   "cell_type": "code",
   "execution_count": 2,
   "id": "253ed587-a24d-49e0-a914-a54b6683fe25",
   "metadata": {},
   "outputs": [],
   "source": [
    "# Import BeautifulSoup & requests\n",
    "from bs4 import BeautifulSoup\n",
    "import requests"
   ]
  },
  {
   "cell_type": "markdown",
   "id": "9e0336ad-0d66-449c-be10-4bfb9edfd061",
   "metadata": {},
   "source": [
    "### 3. Extract Data"
   ]
  },
  {
   "cell_type": "markdown",
   "id": "08b8f483-27a4-462f-a83a-061d0b895b7c",
   "metadata": {},
   "source": [
    "#### Display HTML in nested structure"
   ]
  },
  {
   "cell_type": "code",
   "execution_count": 3,
   "id": "dd3e0077-f5da-4c08-a5d3-c74b025a3a59",
   "metadata": {},
   "outputs": [
    {
     "name": "stdout",
     "output_type": "stream",
     "text": [
      "<!DOCTYPE html>\n",
      "<html>\n",
      " <head>\n",
      "  <title>\n",
      "   Page Title\n",
      "  </title>\n",
      " </head>\n",
      " <body>\n",
      "  <h3>\n",
      "   <b id=\"boldest\">\n",
      "    Lebron James\n",
      "   </b>\n",
      "  </h3>\n",
      "  <p>\n",
      "   Salary: $ 92,000,000\n",
      "  </p>\n",
      "  <h3>\n",
      "   Stephen Curry\n",
      "  </h3>\n",
      "  <p>\n",
      "   Salary: $85,000,000\n",
      "  </p>\n",
      "  <h3>\n",
      "   Kevin Durant\n",
      "  </h3>\n",
      "  <p>\n",
      "   Salary: $73,200,000\n",
      "  </p>\n",
      " </body>\n",
      "</html>\n",
      "\n"
     ]
    }
   ],
   "source": [
    "# Pass the HTML into BeautifulSoup constructor\n",
    "soup = BeautifulSoup(html, 'html5lib')\n",
    "\n",
    "# Print nested structure\n",
    "print(soup.prettify())"
   ]
  },
  {
   "cell_type": "markdown",
   "id": "21fa9024-f33b-4b0b-bafa-d16f2acd8b04",
   "metadata": {},
   "source": [
    "#### Extract tags information"
   ]
  },
  {
   "cell_type": "code",
   "execution_count": 4,
   "id": "c763c7dd-62fe-4af4-8878-719068e0776e",
   "metadata": {},
   "outputs": [
    {
     "name": "stdout",
     "output_type": "stream",
     "text": [
      "tag object:  <title>Page Title</title>\n",
      "tag object type:  <class 'bs4.element.Tag'>\n"
     ]
    }
   ],
   "source": [
    "# Title\n",
    "tag_object = soup.title\n",
    "print(\"tag object: \", tag_object) \n",
    "print(\"tag object type: \", type(tag_object))"
   ]
  },
  {
   "cell_type": "code",
   "execution_count": 5,
   "id": "3ac7b758-d8ba-443d-a4e3-1d3c6da346f2",
   "metadata": {},
   "outputs": [
    {
     "name": "stdout",
     "output_type": "stream",
     "text": [
      "tag object:  <h3> <b id=\"boldest\">Lebron James</b></h3>\n",
      "tag object type:  <class 'bs4.element.Tag'>\n"
     ]
    }
   ],
   "source": [
    "# H3\n",
    "tag_object = soup.h3\n",
    "print(\"tag object: \", tag_object) \n",
    "print(\"tag object type: \", type(tag_object))"
   ]
  },
  {
   "cell_type": "code",
   "execution_count": 6,
   "id": "056f9958-7c93-46f3-a13b-8fd66b198052",
   "metadata": {},
   "outputs": [
    {
     "name": "stdout",
     "output_type": "stream",
     "text": [
      "tag child:  <b id=\"boldest\">Lebron James</b>\n",
      "tag child type:  <class 'bs4.element.Tag'>\n"
     ]
    }
   ],
   "source": [
    "# Child of H3\n",
    "tag_child = tag_object.b\n",
    "print(\"tag child: \", tag_child) \n",
    "print(\"tag child type: \", type(tag_child))"
   ]
  },
  {
   "cell_type": "code",
   "execution_count": 7,
   "id": "174472b3-dfb3-48fe-8c7a-1ebf2f1e5b9f",
   "metadata": {},
   "outputs": [
    {
     "name": "stdout",
     "output_type": "stream",
     "text": [
      "tag parent:  <body><h3> <b id=\"boldest\">Lebron James</b></h3><p> Salary: $ 92,000,000 </p> <h3>Stephen Curry</h3><p> Salary: $85,000,000</p> <h3>Kevin Durant</h3><p> Salary: $73,200,000</p></body>\n",
      "tag parent type:  <class 'bs4.element.Tag'>\n"
     ]
    }
   ],
   "source": [
    "# Parent of H3\n",
    "tag_parent = tag_object.parent\n",
    "print(\"tag parent: \", tag_parent) \n",
    "print(\"tag parent type: \", type(tag_parent))"
   ]
  },
  {
   "cell_type": "code",
   "execution_count": 8,
   "id": "d85a69c6-efc9-4102-b742-ef14c415dd32",
   "metadata": {},
   "outputs": [
    {
     "name": "stdout",
     "output_type": "stream",
     "text": [
      "sibling 1:  <p> Salary: $ 92,000,000 </p>\n",
      "sibling 2:   \n",
      "sibling 3:  <h3>Stephen Curry</h3>\n",
      "sibling 4:  <p> Salary: $85,000,000</p>\n"
     ]
    }
   ],
   "source": [
    "# Siblings of H3\n",
    "sibling_1 = tag_object.next_sibling\n",
    "print(\"sibling 1: \", sibling_1)\n",
    "\n",
    "sibling_2 = sibling_1.next_sibling\n",
    "print(\"sibling 2: \", sibling_2)\n",
    "\n",
    "sibling_3 = sibling_2.next_sibling\n",
    "print(\"sibling 3: \", sibling_3)\n",
    "\n",
    "sibling_4 = sibling_3.next_sibling\n",
    "print(\"sibling 4: \", sibling_4)"
   ]
  },
  {
   "cell_type": "markdown",
   "id": "81ab7706-a70b-4aff-b686-605e2c4889a2",
   "metadata": {},
   "source": [
    "#### Extracting HTML Attributes"
   ]
  },
  {
   "cell_type": "code",
   "execution_count": 9,
   "id": "7ee3325d-df70-41ca-a0bf-c217a35108c5",
   "metadata": {},
   "outputs": [
    {
     "data": {
      "text/plain": [
       "'boldest'"
      ]
     },
     "execution_count": 9,
     "metadata": {},
     "output_type": "execute_result"
    }
   ],
   "source": [
    "# Extract id\n",
    "tag_child['id']"
   ]
  },
  {
   "cell_type": "code",
   "execution_count": 10,
   "id": "ef9e5129-9037-4c51-be94-596c2a2fc74d",
   "metadata": {},
   "outputs": [
    {
     "data": {
      "text/plain": [
       "'boldest'"
      ]
     },
     "execution_count": 10,
     "metadata": {},
     "output_type": "execute_result"
    }
   ],
   "source": [
    "# Alternatively, use the get() method\n",
    "tag_child.get('id')"
   ]
  },
  {
   "cell_type": "code",
   "execution_count": 11,
   "id": "7063fbad-acbc-46ec-8aeb-b57aaf83d407",
   "metadata": {},
   "outputs": [
    {
     "data": {
      "text/plain": [
       "{'id': 'boldest'}"
      ]
     },
     "execution_count": 11,
     "metadata": {},
     "output_type": "execute_result"
    }
   ],
   "source": [
    "# Access id as dictionary\n",
    "tag_child.attrs"
   ]
  },
  {
   "cell_type": "markdown",
   "id": "6000ba89-b085-4c74-8542-cc2d03590d5d",
   "metadata": {},
   "source": [
    "#### Extract Strings"
   ]
  },
  {
   "cell_type": "code",
   "execution_count": 12,
   "id": "af72312a-600a-4cae-a999-bafcc1635b15",
   "metadata": {},
   "outputs": [
    {
     "name": "stdout",
     "output_type": "stream",
     "text": [
      "string:  Lebron James\n",
      "type:  <class 'bs4.element.NavigableString'>\n"
     ]
    }
   ],
   "source": [
    "# Display string\n",
    "tag_string = tag_child.string\n",
    "print(\"string: \", tag_string)\n",
    "print(\"type: \", type(tag_string))"
   ]
  },
  {
   "cell_type": "code",
   "execution_count": 13,
   "id": "c0090b6a-c641-4c04-ae53-21b3c06137b7",
   "metadata": {},
   "outputs": [
    {
     "data": {
      "text/plain": [
       "'Lebron James'"
      ]
     },
     "execution_count": 13,
     "metadata": {},
     "output_type": "execute_result"
    }
   ],
   "source": [
    "# Convert to Python string object\n",
    "unicode_string = str(tag_string)\n",
    "unicode_string"
   ]
  },
  {
   "cell_type": "markdown",
   "id": "e970e4af-f703-46b5-a52a-da65611d0e60",
   "metadata": {},
   "source": [
    "### 4. Filtering Data"
   ]
  },
  {
   "cell_type": "code",
   "execution_count": 14,
   "id": "ad5443fb-891b-4ad9-a027-1c1bb2486aa6",
   "metadata": {},
   "outputs": [
    {
     "data": {
      "text/plain": [
       "<html><head></head><body><table><tbody><tr><td id=\"flight\">Flight No</td><td>Launch site</td> <td>Payload mass</td></tr><tr> <td>1</td> <td><a href=\"https://en.wikipedia.org/wiki/Florida\">Florida</a><a></a></td> <td>300 kg</td></tr><tr><td>2</td> <td><a href=\"https://en.wikipedia.org/wiki/Texas\">Texas</a></td> <td>94 kg</td></tr><tr><td>3</td> <td><a href=\"https://en.wikipedia.org/wiki/Florida\">Florida</a><a> </a></td> <td>80 kg</td></tr></tbody></table></body></html>"
      ]
     },
     "execution_count": 14,
     "metadata": {},
     "output_type": "execute_result"
    }
   ],
   "source": [
    "# Define table\n",
    "table = \"<table><tr><td id='flight'>Flight No</td><td>Launch site</td> \\\n",
    "<td>Payload mass</td></tr><tr> <td>1</td> \\\n",
    "<td><a href='https://en.wikipedia.org/wiki/Florida'>Florida<a></td> \\\n",
    "<td>300 kg</td></tr><tr><td>2</td> \\\n",
    "<td><a href='https://en.wikipedia.org/wiki/Texas'>Texas</a></td> \\\n",
    "<td>94 kg</td></tr><tr><td>3</td> \\\n",
    "<td><a href='https://en.wikipedia.org/wiki/Florida'>Florida<a> </td> \\\n",
    "<td>80 kg</td></tr></table>\"\n",
    "\n",
    "# Display table\n",
    "table_bs = BeautifulSoup(table, 'html5lib')\n",
    "table_bs"
   ]
  },
  {
   "cell_type": "code",
   "execution_count": 15,
   "id": "383a40ea-d46a-4dd6-92e4-0e57026f8a7d",
   "metadata": {},
   "outputs": [
    {
     "data": {
      "text/plain": [
       "[<tr><td id=\"flight\">Flight No</td><td>Launch site</td> <td>Payload mass</td></tr>,\n",
       " <tr> <td>1</td> <td><a href=\"https://en.wikipedia.org/wiki/Florida\">Florida</a><a></a></td> <td>300 kg</td></tr>,\n",
       " <tr><td>2</td> <td><a href=\"https://en.wikipedia.org/wiki/Texas\">Texas</a></td> <td>94 kg</td></tr>,\n",
       " <tr><td>3</td> <td><a href=\"https://en.wikipedia.org/wiki/Florida\">Florida</a><a> </a></td> <td>80 kg</td></tr>]"
      ]
     },
     "execution_count": 15,
     "metadata": {},
     "output_type": "execute_result"
    }
   ],
   "source": [
    "# Locate table rows\n",
    "table_rows = table_bs.find_all('tr')\n",
    "table_rows"
   ]
  },
  {
   "cell_type": "code",
   "execution_count": 16,
   "id": "428bc03c-22a5-4587-aa04-b5e4f594f2d4",
   "metadata": {},
   "outputs": [
    {
     "data": {
      "text/plain": [
       "<tr><td id=\"flight\">Flight No</td><td>Launch site</td> <td>Payload mass</td></tr>"
      ]
     },
     "execution_count": 16,
     "metadata": {},
     "output_type": "execute_result"
    }
   ],
   "source": [
    "# Locate first row\n",
    "first_row = table_rows[0]\n",
    "first_row"
   ]
  },
  {
   "cell_type": "code",
   "execution_count": 17,
   "id": "12e63041-067b-4451-a2db-459cb5adc437",
   "metadata": {},
   "outputs": [
    {
     "name": "stdout",
     "output_type": "stream",
     "text": [
      "<class 'bs4.element.Tag'>\n"
     ]
    }
   ],
   "source": [
    "# Type of first row\n",
    "print(type(first_row))"
   ]
  },
  {
   "cell_type": "code",
   "execution_count": 18,
   "id": "70b1b081-be12-4670-b483-0cbf6e724022",
   "metadata": {},
   "outputs": [
    {
     "data": {
      "text/plain": [
       "<td id=\"flight\">Flight No</td>"
      ]
     },
     "execution_count": 18,
     "metadata": {},
     "output_type": "execute_result"
    }
   ],
   "source": [
    "# Print first cell of first row\n",
    "first_row.td"
   ]
  },
  {
   "cell_type": "code",
   "execution_count": 19,
   "id": "8d037ff6-45c8-47c0-b48c-1dcfd3f4cbb0",
   "metadata": {},
   "outputs": [
    {
     "name": "stdout",
     "output_type": "stream",
     "text": [
      "row 0 is <tr><td id=\"flight\">Flight No</td><td>Launch site</td> <td>Payload mass</td></tr>\n",
      "row 1 is <tr> <td>1</td> <td><a href=\"https://en.wikipedia.org/wiki/Florida\">Florida</a><a></a></td> <td>300 kg</td></tr>\n",
      "row 2 is <tr><td>2</td> <td><a href=\"https://en.wikipedia.org/wiki/Texas\">Texas</a></td> <td>94 kg</td></tr>\n",
      "row 3 is <tr><td>3</td> <td><a href=\"https://en.wikipedia.org/wiki/Florida\">Florida</a><a> </a></td> <td>80 kg</td></tr>\n"
     ]
    }
   ],
   "source": [
    "# Print elements in each row\n",
    "for i, row in enumerate(table_rows):\n",
    "    print(\"row\", i, \"is\", row)"
   ]
  },
  {
   "cell_type": "code",
   "execution_count": 20,
   "id": "91827fd8-4fac-4943-b8ac-836aa73c59b0",
   "metadata": {},
   "outputs": [
    {
     "name": "stdout",
     "output_type": "stream",
     "text": [
      "row 0\n",
      "column 0 cell <td id=\"flight\">Flight No</td>\n",
      "column 1 cell <td>Launch site</td>\n",
      "column 2 cell <td>Payload mass</td>\n",
      "row 1\n",
      "column 0 cell <td>1</td>\n",
      "column 1 cell <td><a href=\"https://en.wikipedia.org/wiki/Florida\">Florida</a><a></a></td>\n",
      "column 2 cell <td>300 kg</td>\n",
      "row 2\n",
      "column 0 cell <td>2</td>\n",
      "column 1 cell <td><a href=\"https://en.wikipedia.org/wiki/Texas\">Texas</a></td>\n",
      "column 2 cell <td>94 kg</td>\n",
      "row 3\n",
      "column 0 cell <td>3</td>\n",
      "column 1 cell <td><a href=\"https://en.wikipedia.org/wiki/Florida\">Florida</a><a> </a></td>\n",
      "column 2 cell <td>80 kg</td>\n"
     ]
    }
   ],
   "source": [
    "# Print row, column and data\n",
    "for i, row in enumerate(table_rows):\n",
    "    # Print row number\n",
    "    print(\"row\", i)\n",
    "    cells = row.find_all('td')\n",
    "    for j, cell in enumerate(cells):\n",
    "        # Print column number and cell content\n",
    "        print('column', j, \"cell\", cell)"
   ]
  },
  {
   "cell_type": "code",
   "execution_count": 21,
   "id": "e3479029-bead-4546-865d-25fc88e8e922",
   "metadata": {},
   "outputs": [
    {
     "data": {
      "text/plain": [
       "[<tr><td id=\"flight\">Flight No</td><td>Launch site</td> <td>Payload mass</td></tr>,\n",
       " <td id=\"flight\">Flight No</td>,\n",
       " <td>Launch site</td>,\n",
       " <td>Payload mass</td>,\n",
       " <tr> <td>1</td> <td><a href=\"https://en.wikipedia.org/wiki/Florida\">Florida</a><a></a></td> <td>300 kg</td></tr>,\n",
       " <td>1</td>,\n",
       " <td><a href=\"https://en.wikipedia.org/wiki/Florida\">Florida</a><a></a></td>,\n",
       " <td>300 kg</td>,\n",
       " <tr><td>2</td> <td><a href=\"https://en.wikipedia.org/wiki/Texas\">Texas</a></td> <td>94 kg</td></tr>,\n",
       " <td>2</td>,\n",
       " <td><a href=\"https://en.wikipedia.org/wiki/Texas\">Texas</a></td>,\n",
       " <td>94 kg</td>,\n",
       " <tr><td>3</td> <td><a href=\"https://en.wikipedia.org/wiki/Florida\">Florida</a><a> </a></td> <td>80 kg</td></tr>,\n",
       " <td>3</td>,\n",
       " <td><a href=\"https://en.wikipedia.org/wiki/Florida\">Florida</a><a> </a></td>,\n",
       " <td>80 kg</td>]"
      ]
     },
     "execution_count": 21,
     "metadata": {},
     "output_type": "execute_result"
    }
   ],
   "source": [
    "# Using list to display cell content\n",
    "list_input = table_bs.find_all(name=['tr', 'td'])\n",
    "list_input"
   ]
  },
  {
   "cell_type": "code",
   "execution_count": 22,
   "id": "ab960a98-5cbf-454e-ac64-d50ad14b1bfc",
   "metadata": {},
   "outputs": [
    {
     "data": {
      "text/plain": [
       "[<td id=\"flight\">Flight No</td>]"
      ]
     },
     "execution_count": 22,
     "metadata": {},
     "output_type": "execute_result"
    }
   ],
   "source": [
    "# Display only elements with id 'flight'\n",
    "table_bs.find_all(id = 'flight')"
   ]
  },
  {
   "cell_type": "code",
   "execution_count": 23,
   "id": "9a779c62-45bb-4e38-b5e2-aefc60091796",
   "metadata": {},
   "outputs": [
    {
     "data": {
      "text/plain": [
       "[<a href=\"https://en.wikipedia.org/wiki/Florida\">Florida</a>,\n",
       " <a href=\"https://en.wikipedia.org/wiki/Florida\">Florida</a>]"
      ]
     },
     "execution_count": 23,
     "metadata": {},
     "output_type": "execute_result"
    }
   ],
   "source": [
    "# Locate elements linking to the Florida Wikipedia page\n",
    "list_input = table_bs.find_all(href='https://en.wikipedia.org/wiki/Florida')\n",
    "list_input"
   ]
  },
  {
   "cell_type": "code",
   "execution_count": 24,
   "id": "30d74772-9566-4505-a6de-bf243e311667",
   "metadata": {},
   "outputs": [
    {
     "data": {
      "text/plain": [
       "[<a href=\"https://en.wikipedia.org/wiki/Florida\">Florida</a>,\n",
       " <a href=\"https://en.wikipedia.org/wiki/Texas\">Texas</a>,\n",
       " <a href=\"https://en.wikipedia.org/wiki/Florida\">Florida</a>]"
      ]
     },
     "execution_count": 24,
     "metadata": {},
     "output_type": "execute_result"
    }
   ],
   "source": [
    "# Locate all anchors with links\n",
    "table_bs.find_all('a', href=True)"
   ]
  },
  {
   "cell_type": "code",
   "execution_count": 25,
   "id": "faadb5ff-9d5f-47bf-816b-d8a16f5b0553",
   "metadata": {},
   "outputs": [
    {
     "data": {
      "text/plain": [
       "[<a></a>, <a> </a>]"
      ]
     },
     "execution_count": 25,
     "metadata": {},
     "output_type": "execute_result"
    }
   ],
   "source": [
    "# Locate all anchors without links\n",
    "table_bs.find_all('a', href=False)"
   ]
  },
  {
   "cell_type": "code",
   "execution_count": 26,
   "id": "d0f4f5a2-5a18-42fb-9ff2-71dde6b76ef2",
   "metadata": {},
   "outputs": [
    {
     "data": {
      "text/plain": [
       "['Florida', 'Florida']"
      ]
     },
     "execution_count": 26,
     "metadata": {},
     "output_type": "execute_result"
    }
   ],
   "source": [
    "# Find string 'Florida'\n",
    "table_bs.find_all(string = 'Florida')"
   ]
  },
  {
   "cell_type": "markdown",
   "id": "f655d59d-2db6-44ee-8b97-23654843af4e",
   "metadata": {},
   "source": [
    "## 5. Find Specific Elements"
   ]
  },
  {
   "cell_type": "code",
   "execution_count": 27,
   "id": "fb7680f5-402f-40d1-853b-9f31a1e81a18",
   "metadata": {},
   "outputs": [],
   "source": [
    "# Define table\n",
    "two_tables=\"<h3>Rocket Launch </h3> \\\n",
    "<p><table class='rocket'> \\\n",
    "<tr><td>Flight No</td><td>Launch site</td><td>Payload mass</td></tr> \\\n",
    "<tr><td>1</td><td>Florida</td><td>300 kg</td></tr> \\\n",
    "<tr><td>2</td><td>Texas</td><td>94 kg</td></tr> \\\n",
    "<tr><td>3</td><td>Florida </td><td>80 kg</td></tr></table></p>\\\n",
    "<p><h3>Pizza Party</h3> \\\n",
    "<table class='pizza'> \\\n",
    "<tr><td>Pizza Place</td><td>Orders</td><td>Slices </td></tr> \\\n",
    "<tr><td>Domino's Pizza</td><td>10</td><td>100</td></tr> \\\n",
    "<tr><td>Little Caesars</td><td>12</td><td >144 </td></tr> \\\n",
    "<tr><td>Papa John's</td><td>15 </td><td>165</td></tr>\""
   ]
  },
  {
   "cell_type": "code",
   "execution_count": 28,
   "id": "9b55812b-c033-4453-b379-05fc42b290a6",
   "metadata": {},
   "outputs": [
    {
     "data": {
      "text/plain": [
       "<h3>Rocket Launch </h3> <p><table class=\"rocket\"> <tr><td>Flight No</td><td>Launch site</td><td>Payload mass</td></tr> <tr><td>1</td><td>Florida</td><td>300 kg</td></tr> <tr><td>2</td><td>Texas</td><td>94 kg</td></tr> <tr><td>3</td><td>Florida </td><td>80 kg</td></tr></table></p><p><h3>Pizza Party</h3> <table class=\"pizza\"> <tr><td>Pizza Place</td><td>Orders</td><td>Slices </td></tr> <tr><td>Domino's Pizza</td><td>10</td><td>100</td></tr> <tr><td>Little Caesars</td><td>12</td><td>144 </td></tr> <tr><td>Papa John's</td><td>15 </td><td>165</td></tr></table></p>"
      ]
     },
     "execution_count": 28,
     "metadata": {},
     "output_type": "execute_result"
    }
   ],
   "source": [
    "# Create object using BeautifulSoup\n",
    "two_tables_bs = BeautifulSoup(two_tables, 'html.parser')\n",
    "two_tables_bs"
   ]
  },
  {
   "cell_type": "code",
   "execution_count": 29,
   "id": "58233e79-2075-469c-839f-b35e03cac2b9",
   "metadata": {},
   "outputs": [
    {
     "data": {
      "text/plain": [
       "<table class=\"rocket\"> <tr><td>Flight No</td><td>Launch site</td><td>Payload mass</td></tr> <tr><td>1</td><td>Florida</td><td>300 kg</td></tr> <tr><td>2</td><td>Texas</td><td>94 kg</td></tr> <tr><td>3</td><td>Florida </td><td>80 kg</td></tr></table>"
      ]
     },
     "execution_count": 29,
     "metadata": {},
     "output_type": "execute_result"
    }
   ],
   "source": [
    "# Find the first table\n",
    "two_tables_bs.find('table')"
   ]
  },
  {
   "cell_type": "code",
   "execution_count": 30,
   "id": "911034d2-c6c8-432a-929b-ae7ca5793b8e",
   "metadata": {},
   "outputs": [
    {
     "data": {
      "text/plain": [
       "<table class=\"pizza\"> <tr><td>Pizza Place</td><td>Orders</td><td>Slices </td></tr> <tr><td>Domino's Pizza</td><td>10</td><td>100</td></tr> <tr><td>Little Caesars</td><td>12</td><td>144 </td></tr> <tr><td>Papa John's</td><td>15 </td><td>165</td></tr></table>"
      ]
     },
     "execution_count": 30,
     "metadata": {},
     "output_type": "execute_result"
    }
   ],
   "source": [
    "# Find the second table using its class\n",
    "two_tables_bs.find('table', class_= 'pizza')"
   ]
  },
  {
   "cell_type": "markdown",
   "id": "9c90df55-eca0-44e1-b388-4eb93f9bdcee",
   "metadata": {},
   "source": [
    "## Project 2 Scenario\n",
    "\n",
    "You are asked to download and scrape web contents of a web page and HTML tables."
   ]
  },
  {
   "cell_type": "markdown",
   "id": "8e0d2bd6-c4df-497e-9342-c7c6b965e453",
   "metadata": {},
   "source": [
    "#### Web Page"
   ]
  },
  {
   "cell_type": "code",
   "execution_count": 31,
   "id": "249843cc-5edb-4ae9-869c-2e6bc293006e",
   "metadata": {},
   "outputs": [],
   "source": [
    "# Define URL\n",
    "url = 'http://www.ibm.com'\n",
    "\n",
    "# Get request as text\n",
    "data = requests.get(url).text\n",
    "\n",
    "# Create object using BeautifulSoup\n",
    "soup = BeautifulSoup(data, 'html5lib')"
   ]
  },
  {
   "cell_type": "code",
   "execution_count": 32,
   "id": "226b75a2-f9df-430b-829c-8f782117867c",
   "metadata": {},
   "outputs": [
    {
     "name": "stdout",
     "output_type": "stream",
     "text": [
      "https://www.ibm.com/hybrid-cloud?lnk=hpUSbt1\n"
     ]
    }
   ],
   "source": [
    "# Scrape all links\n",
    "for link in soup.find_all('a', href = True):\n",
    "    print(link.get('href'))"
   ]
  },
  {
   "cell_type": "code",
   "execution_count": 33,
   "id": "f983b343-6683-427d-b12e-87745f871dbe",
   "metadata": {},
   "outputs": [],
   "source": [
    "# Scrape all images\n",
    "for link in soup.find_all('img'):\n",
    "    print(link.get('src'))"
   ]
  },
  {
   "cell_type": "markdown",
   "id": "38feeddf-945c-49c0-a56e-a69ba38689e8",
   "metadata": {},
   "source": [
    "#### HTML Table"
   ]
  },
  {
   "cell_type": "code",
   "execution_count": 34,
   "id": "2b1c14d0-3813-405b-9731-d1187bdbd6b6",
   "metadata": {},
   "outputs": [],
   "source": [
    "# Define table URL\n",
    "url = 'https://cf-courses-data.s3.us.cloud-object-storage.appdomain.cloud/IBM-DA0321EN-SkillsNetwork/labs/datasets/HTMLColorCodes.html'"
   ]
  },
  {
   "cell_type": "code",
   "execution_count": 35,
   "id": "e6854cf1-a941-490c-bd69-534991b735b2",
   "metadata": {},
   "outputs": [],
   "source": [
    "## Examine contents of webpage\n",
    "# Get request in text\n",
    "data = requests.get(url).text\n",
    "\n",
    "# Create object\n",
    "soup = BeautifulSoup(data, 'html5lib')"
   ]
  },
  {
   "cell_type": "code",
   "execution_count": 36,
   "id": "0dba0465-f060-4ecc-b9b2-96ef3808a349",
   "metadata": {},
   "outputs": [],
   "source": [
    "# Find html table\n",
    "table = soup.find('table')"
   ]
  },
  {
   "cell_type": "code",
   "execution_count": 37,
   "id": "137ef969-002e-4cea-a955-829483ac955a",
   "metadata": {},
   "outputs": [
    {
     "name": "stdout",
     "output_type": "stream",
     "text": [
      "Color Name--->Hex Code#RRGGBB\n",
      "lightsalmon--->#FFA07A\n",
      "salmon--->#FA8072\n",
      "darksalmon--->#E9967A\n",
      "lightcoral--->#F08080\n",
      "coral--->#FF7F50\n",
      "tomato--->#FF6347\n",
      "orangered--->#FF4500\n",
      "gold--->#FFD700\n",
      "orange--->#FFA500\n",
      "darkorange--->#FF8C00\n",
      "lightyellow--->#FFFFE0\n",
      "lemonchiffon--->#FFFACD\n",
      "papayawhip--->#FFEFD5\n",
      "moccasin--->#FFE4B5\n",
      "peachpuff--->#FFDAB9\n",
      "palegoldenrod--->#EEE8AA\n",
      "khaki--->#F0E68C\n",
      "darkkhaki--->#BDB76B\n",
      "yellow--->#FFFF00\n",
      "lawngreen--->#7CFC00\n",
      "chartreuse--->#7FFF00\n",
      "limegreen--->#32CD32\n",
      "lime--->#00FF00\n",
      "forestgreen--->#228B22\n",
      "green--->#008000\n",
      "powderblue--->#B0E0E6\n",
      "lightblue--->#ADD8E6\n",
      "lightskyblue--->#87CEFA\n",
      "skyblue--->#87CEEB\n",
      "deepskyblue--->#00BFFF\n",
      "lightsteelblue--->#B0C4DE\n",
      "dodgerblue--->#1E90FF\n"
     ]
    }
   ],
   "source": [
    "# Find all rows from the table\n",
    "for row in table.find_all('tr'):\n",
    "    cols = row.find_all('td')\n",
    "    color_name = cols[2].string\n",
    "    color_code = cols[3].text\n",
    "    print('{}--->{}'.format(color_name, color_code))"
   ]
  },
  {
   "cell_type": "markdown",
   "id": "5fdcecbe-cab2-4c2f-8e6e-2f98a6d176d6",
   "metadata": {},
   "source": [
    "#### HTML Table: Using BeautifulSoup and Pandas"
   ]
  },
  {
   "cell_type": "code",
   "execution_count": 38,
   "id": "82713845-5160-46fb-9043-866ab548d794",
   "metadata": {},
   "outputs": [],
   "source": [
    "# Import libraries\n",
    "import pandas as pd\n",
    "import requests"
   ]
  },
  {
   "cell_type": "code",
   "execution_count": 39,
   "id": "ae1349fb-87a5-4d35-8e2f-8b224024c0d7",
   "metadata": {},
   "outputs": [],
   "source": [
    "# Define URL\n",
    "url = 'https://en.wikipedia.org/wiki/World_population'"
   ]
  },
  {
   "cell_type": "code",
   "execution_count": 40,
   "id": "35d782ce-6bc5-42a0-8d18-a3c7b18f4db1",
   "metadata": {},
   "outputs": [],
   "source": [
    "# Get the data\n",
    "data = requests.get(url).text"
   ]
  },
  {
   "cell_type": "code",
   "execution_count": 41,
   "id": "1bf71dde-9a9d-42b6-b2fc-7909d0dce98f",
   "metadata": {},
   "outputs": [],
   "source": [
    "# Parse data into BeautifulSoup object\n",
    "soup = BeautifulSoup(data, 'html.parser')"
   ]
  },
  {
   "cell_type": "code",
   "execution_count": 42,
   "id": "259e3ac5-9278-4b04-85c4-9943861b69f1",
   "metadata": {},
   "outputs": [],
   "source": [
    "# Locate all HTML tables in the webpage\n",
    "tables = soup.find_all('table')"
   ]
  },
  {
   "cell_type": "code",
   "execution_count": 43,
   "id": "86061db5-a21c-4a85-8661-5681cdb22b92",
   "metadata": {},
   "outputs": [
    {
     "data": {
      "text/plain": [
       "30"
      ]
     },
     "execution_count": 43,
     "metadata": {},
     "output_type": "execute_result"
    }
   ],
   "source": [
    "# Number of tables found\n",
    "len(tables)"
   ]
  },
  {
   "cell_type": "code",
   "execution_count": 44,
   "id": "aa5f4f76-cfee-4832-a723-390a557c4713",
   "metadata": {},
   "outputs": [
    {
     "name": "stdout",
     "output_type": "stream",
     "text": [
      "7\n"
     ]
    }
   ],
   "source": [
    "# Find table with description '10 most densely populated countries'\n",
    "for index, table in enumerate(tables):\n",
    "    if ('10 most densely populated countries' in str(table)):\n",
    "        table_index = index\n",
    "print(table_index)"
   ]
  },
  {
   "cell_type": "code",
   "execution_count": 45,
   "id": "cd72b3d9-dbb9-4cd9-8ab8-761037009f02",
   "metadata": {},
   "outputs": [
    {
     "name": "stdout",
     "output_type": "stream",
     "text": [
      "  Rank       Country  Population    Area Density\n",
      "0   10   Netherlands  17,400,824  41,543     419\n"
     ]
    }
   ],
   "source": [
    "population_data = pd.DataFrame(columns=[\"Rank\", \"Country\", \"Population\", \"Area\", \"Density\"])\n",
    "\n",
    "for row in tables[table_index].tbody.find_all(\"tr\"):\n",
    "    col = row.find_all(\"td\")\n",
    "\n",
    "    if col:  # Check if col is not empty\n",
    "        rank = col[0].text\n",
    "        country = col[1].text\n",
    "        population = col[2].text.strip()\n",
    "        area = col[3].text.strip()\n",
    "        density = col[4].text.strip()\n",
    "\n",
    "        # Create a dictionary for the current row\n",
    "        row_dict = {\"Rank\": rank, \"Country\": country, \"Population\": population, \"Area\": area, \"Density\": density}\n",
    "        \n",
    "        # Append the dictionary to the list\n",
    "        data_list = []\n",
    "        data_list.append(row_dict)\n",
    "\n",
    "# Convert the list of dictionaries into a DataFrame\n",
    "population_data = pd.concat([population_data, pd.DataFrame(data_list)], ignore_index=True)\n",
    "\n",
    "print(population_data)"
   ]
  },
  {
   "cell_type": "code",
   "execution_count": 46,
   "id": "db4e222c-7669-4ebc-a9d7-bb03d3761ef7",
   "metadata": {},
   "outputs": [
    {
     "data": {
      "text/html": [
       "<div>\n",
       "<style scoped>\n",
       "    .dataframe tbody tr th:only-of-type {\n",
       "        vertical-align: middle;\n",
       "    }\n",
       "\n",
       "    .dataframe tbody tr th {\n",
       "        vertical-align: top;\n",
       "    }\n",
       "\n",
       "    .dataframe thead th {\n",
       "        text-align: right;\n",
       "    }\n",
       "</style>\n",
       "<table border=\"1\" class=\"dataframe\">\n",
       "  <thead>\n",
       "    <tr style=\"text-align: right;\">\n",
       "      <th></th>\n",
       "      <th>Rank</th>\n",
       "      <th>Country</th>\n",
       "      <th>Population</th>\n",
       "      <th>Area</th>\n",
       "      <th>Density</th>\n",
       "    </tr>\n",
       "  </thead>\n",
       "  <tbody>\n",
       "    <tr>\n",
       "      <th>0</th>\n",
       "      <td>10</td>\n",
       "      <td>Netherlands</td>\n",
       "      <td>17,400,824</td>\n",
       "      <td>41,543</td>\n",
       "      <td>419</td>\n",
       "    </tr>\n",
       "  </tbody>\n",
       "</table>\n",
       "</div>"
      ],
      "text/plain": [
       "  Rank       Country  Population    Area Density\n",
       "0   10   Netherlands  17,400,824  41,543     419"
      ]
     },
     "execution_count": 46,
     "metadata": {},
     "output_type": "execute_result"
    }
   ],
   "source": [
    "## Scrape the data into dataframe\n",
    "\n",
    "# Build the dataframe\n",
    "population_data = pd.DataFrame(columns = ['Rank', 'Country', 'Population', 'Area', 'Density'])\n",
    "\n",
    "# Scrape the data\n",
    "for row in tables[table_index].tbody.find_all('tr'):\n",
    "    col = row.find_all('td')\n",
    "    \n",
    "    if (col != []): # Check if col is not empty\n",
    "        rank = col[0].text\n",
    "        country = col[1].text\n",
    "        population = col[2].text.strip()\n",
    "        area = col[3].text.strip()\n",
    "        density = col[4].text.strip()\n",
    "        \n",
    "        # Create a dictionary for the current row\n",
    "        row_dict = {'Rank': rank, 'Country': country, 'Population': population, 'Area': area, 'Density': density}\n",
    "        \n",
    "        # Append the dictionary to a list\n",
    "        data_list = []\n",
    "        data_list.append(row_dict)\n",
    "        \n",
    "# Convert the list into dataframe\n",
    "population_data = pd.concat([population_data, pd.DataFrame(data_list)], ignore_index=True)\n",
    "\n",
    "# Print the dataframe\n",
    "population_data"
   ]
  },
  {
   "cell_type": "code",
   "execution_count": 66,
   "id": "3506530e-6bb6-471d-9d58-c83d662debbe",
   "metadata": {},
   "outputs": [],
   "source": [
    "# Print the located table\n",
    "#print(tables[table_index].prettify())"
   ]
  },
  {
   "cell_type": "markdown",
   "id": "98b89f88-75d2-4ede-aaa4-5a5fc5576906",
   "metadata": {},
   "source": [
    "#### HTML Table: Using BeautifulSoup and read_html"
   ]
  },
  {
   "cell_type": "code",
   "execution_count": 58,
   "id": "90e91da7-0ad6-468a-934f-e38c4c14e2ea",
   "metadata": {},
   "outputs": [],
   "source": [
    "# Read HTML\n",
    "tables = pd.read_html(url, flavor = 'bs4')"
   ]
  },
  {
   "cell_type": "code",
   "execution_count": 59,
   "id": "1d54a2cc-2878-40e7-bdf9-b2ff57bdd657",
   "metadata": {},
   "outputs": [
    {
     "data": {
      "text/plain": [
       "27"
      ]
     },
     "execution_count": 59,
     "metadata": {},
     "output_type": "execute_result"
    }
   ],
   "source": [
    "# List of dataframes\n",
    "len(tables)"
   ]
  },
  {
   "cell_type": "code",
   "execution_count": 63,
   "id": "27838d23-9778-43ca-aecd-b26b662d79e3",
   "metadata": {},
   "outputs": [
    {
     "data": {
      "text/html": [
       "<div>\n",
       "<style scoped>\n",
       "    .dataframe tbody tr th:only-of-type {\n",
       "        vertical-align: middle;\n",
       "    }\n",
       "\n",
       "    .dataframe tbody tr th {\n",
       "        vertical-align: top;\n",
       "    }\n",
       "\n",
       "    .dataframe thead th {\n",
       "        text-align: right;\n",
       "    }\n",
       "</style>\n",
       "<table border=\"1\" class=\"dataframe\">\n",
       "  <thead>\n",
       "    <tr style=\"text-align: right;\">\n",
       "      <th></th>\n",
       "      <th>Rank</th>\n",
       "      <th>Country</th>\n",
       "      <th>Population</th>\n",
       "      <th>Area (km2)</th>\n",
       "      <th>Density (pop/km2)</th>\n",
       "    </tr>\n",
       "  </thead>\n",
       "  <tbody>\n",
       "    <tr>\n",
       "      <th>0</th>\n",
       "      <td>1</td>\n",
       "      <td>Singapore</td>\n",
       "      <td>5921231</td>\n",
       "      <td>719</td>\n",
       "      <td>8235</td>\n",
       "    </tr>\n",
       "    <tr>\n",
       "      <th>1</th>\n",
       "      <td>2</td>\n",
       "      <td>Bangladesh</td>\n",
       "      <td>165650475</td>\n",
       "      <td>148460</td>\n",
       "      <td>1116</td>\n",
       "    </tr>\n",
       "    <tr>\n",
       "      <th>2</th>\n",
       "      <td>3</td>\n",
       "      <td>Palestine[note 3][102]</td>\n",
       "      <td>5223000</td>\n",
       "      <td>6025</td>\n",
       "      <td>867</td>\n",
       "    </tr>\n",
       "    <tr>\n",
       "      <th>3</th>\n",
       "      <td>4</td>\n",
       "      <td>Taiwan[note 4]</td>\n",
       "      <td>23580712</td>\n",
       "      <td>35980</td>\n",
       "      <td>655</td>\n",
       "    </tr>\n",
       "    <tr>\n",
       "      <th>4</th>\n",
       "      <td>5</td>\n",
       "      <td>South Korea</td>\n",
       "      <td>51844834</td>\n",
       "      <td>99720</td>\n",
       "      <td>520</td>\n",
       "    </tr>\n",
       "    <tr>\n",
       "      <th>5</th>\n",
       "      <td>6</td>\n",
       "      <td>Lebanon</td>\n",
       "      <td>5296814</td>\n",
       "      <td>10400</td>\n",
       "      <td>509</td>\n",
       "    </tr>\n",
       "    <tr>\n",
       "      <th>6</th>\n",
       "      <td>7</td>\n",
       "      <td>Rwanda</td>\n",
       "      <td>13173730</td>\n",
       "      <td>26338</td>\n",
       "      <td>500</td>\n",
       "    </tr>\n",
       "    <tr>\n",
       "      <th>7</th>\n",
       "      <td>8</td>\n",
       "      <td>Burundi</td>\n",
       "      <td>12696478</td>\n",
       "      <td>27830</td>\n",
       "      <td>456</td>\n",
       "    </tr>\n",
       "    <tr>\n",
       "      <th>8</th>\n",
       "      <td>9</td>\n",
       "      <td>India</td>\n",
       "      <td>1389637446</td>\n",
       "      <td>3287263</td>\n",
       "      <td>423</td>\n",
       "    </tr>\n",
       "    <tr>\n",
       "      <th>9</th>\n",
       "      <td>10</td>\n",
       "      <td>Netherlands</td>\n",
       "      <td>17400824</td>\n",
       "      <td>41543</td>\n",
       "      <td>419</td>\n",
       "    </tr>\n",
       "  </tbody>\n",
       "</table>\n",
       "</div>"
      ],
      "text/plain": [
       "   Rank                 Country  Population  Area (km2)  Density (pop/km2)\n",
       "0     1               Singapore     5921231         719               8235\n",
       "1     2              Bangladesh   165650475      148460               1116\n",
       "2     3  Palestine[note 3][102]     5223000        6025                867\n",
       "3     4          Taiwan[note 4]    23580712       35980                655\n",
       "4     5             South Korea    51844834       99720                520\n",
       "5     6                 Lebanon     5296814       10400                509\n",
       "6     7                  Rwanda    13173730       26338                500\n",
       "7     8                 Burundi    12696478       27830                456\n",
       "8     9                   India  1389637446     3287263                423\n",
       "9    10             Netherlands    17400824       41543                419"
      ]
     },
     "execution_count": 63,
     "metadata": {},
     "output_type": "execute_result"
    }
   ],
   "source": [
    "tables[6]"
   ]
  },
  {
   "cell_type": "code",
   "execution_count": 65,
   "id": "395bba8f-1b80-4a43-b874-88e025fb223a",
   "metadata": {},
   "outputs": [
    {
     "data": {
      "text/html": [
       "<div>\n",
       "<style scoped>\n",
       "    .dataframe tbody tr th:only-of-type {\n",
       "        vertical-align: middle;\n",
       "    }\n",
       "\n",
       "    .dataframe tbody tr th {\n",
       "        vertical-align: top;\n",
       "    }\n",
       "\n",
       "    .dataframe thead th {\n",
       "        text-align: right;\n",
       "    }\n",
       "</style>\n",
       "<table border=\"1\" class=\"dataframe\">\n",
       "  <thead>\n",
       "    <tr style=\"text-align: right;\">\n",
       "      <th></th>\n",
       "      <th>Rank</th>\n",
       "      <th>Country</th>\n",
       "      <th>Population</th>\n",
       "      <th>Area (km2)</th>\n",
       "      <th>Density (pop/km2)</th>\n",
       "    </tr>\n",
       "  </thead>\n",
       "  <tbody>\n",
       "    <tr>\n",
       "      <th>0</th>\n",
       "      <td>1</td>\n",
       "      <td>Singapore</td>\n",
       "      <td>5921231</td>\n",
       "      <td>719</td>\n",
       "      <td>8235</td>\n",
       "    </tr>\n",
       "    <tr>\n",
       "      <th>1</th>\n",
       "      <td>2</td>\n",
       "      <td>Bangladesh</td>\n",
       "      <td>165650475</td>\n",
       "      <td>148460</td>\n",
       "      <td>1116</td>\n",
       "    </tr>\n",
       "    <tr>\n",
       "      <th>2</th>\n",
       "      <td>3</td>\n",
       "      <td>Palestine[note 3][102]</td>\n",
       "      <td>5223000</td>\n",
       "      <td>6025</td>\n",
       "      <td>867</td>\n",
       "    </tr>\n",
       "    <tr>\n",
       "      <th>3</th>\n",
       "      <td>4</td>\n",
       "      <td>Taiwan[note 4]</td>\n",
       "      <td>23580712</td>\n",
       "      <td>35980</td>\n",
       "      <td>655</td>\n",
       "    </tr>\n",
       "    <tr>\n",
       "      <th>4</th>\n",
       "      <td>5</td>\n",
       "      <td>South Korea</td>\n",
       "      <td>51844834</td>\n",
       "      <td>99720</td>\n",
       "      <td>520</td>\n",
       "    </tr>\n",
       "    <tr>\n",
       "      <th>5</th>\n",
       "      <td>6</td>\n",
       "      <td>Lebanon</td>\n",
       "      <td>5296814</td>\n",
       "      <td>10400</td>\n",
       "      <td>509</td>\n",
       "    </tr>\n",
       "    <tr>\n",
       "      <th>6</th>\n",
       "      <td>7</td>\n",
       "      <td>Rwanda</td>\n",
       "      <td>13173730</td>\n",
       "      <td>26338</td>\n",
       "      <td>500</td>\n",
       "    </tr>\n",
       "    <tr>\n",
       "      <th>7</th>\n",
       "      <td>8</td>\n",
       "      <td>Burundi</td>\n",
       "      <td>12696478</td>\n",
       "      <td>27830</td>\n",
       "      <td>456</td>\n",
       "    </tr>\n",
       "    <tr>\n",
       "      <th>8</th>\n",
       "      <td>9</td>\n",
       "      <td>India</td>\n",
       "      <td>1389637446</td>\n",
       "      <td>3287263</td>\n",
       "      <td>423</td>\n",
       "    </tr>\n",
       "    <tr>\n",
       "      <th>9</th>\n",
       "      <td>10</td>\n",
       "      <td>Netherlands</td>\n",
       "      <td>17400824</td>\n",
       "      <td>41543</td>\n",
       "      <td>419</td>\n",
       "    </tr>\n",
       "  </tbody>\n",
       "</table>\n",
       "</div>"
      ],
      "text/plain": [
       "   Rank                 Country  Population  Area (km2)  Density (pop/km2)\n",
       "0     1               Singapore     5921231         719               8235\n",
       "1     2              Bangladesh   165650475      148460               1116\n",
       "2     3  Palestine[note 3][102]     5223000        6025                867\n",
       "3     4          Taiwan[note 4]    23580712       35980                655\n",
       "4     5             South Korea    51844834       99720                520\n",
       "5     6                 Lebanon     5296814       10400                509\n",
       "6     7                  Rwanda    13173730       26338                500\n",
       "7     8                 Burundi    12696478       27830                456\n",
       "8     9                   India  1389637446     3287263                423\n",
       "9    10             Netherlands    17400824       41543                419"
      ]
     },
     "execution_count": 65,
     "metadata": {},
     "output_type": "execute_result"
    }
   ],
   "source": [
    "# Use match parameter to select specific table\n",
    "pd.read_html(url, match=\"10 most densely populated countries\", flavor='bs4')[0]"
   ]
  }
 ],
 "metadata": {
  "kernelspec": {
   "display_name": "Python 3 (ipykernel)",
   "language": "python",
   "name": "python3"
  },
  "language_info": {
   "codemirror_mode": {
    "name": "ipython",
    "version": 3
   },
   "file_extension": ".py",
   "mimetype": "text/x-python",
   "name": "python",
   "nbconvert_exporter": "python",
   "pygments_lexer": "ipython3",
   "version": "3.10.11"
  }
 },
 "nbformat": 4,
 "nbformat_minor": 5
}
